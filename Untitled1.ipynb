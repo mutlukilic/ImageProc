{
 "cells": [
  {
   "cell_type": "code",
   "execution_count": 1,
   "metadata": {},
   "outputs": [],
   "source": [
    "import numpy as np\n",
    "import matplotlib.pyplot as plt\n",
    "import random as random\n",
    "\n",
    "def my_create_m():\n",
    "    return np.random.randint(0,2,(28,28))\n",
    "def my_MBR(matrix_block):\n",
    "    print(my_create_m())"
   ]
  },
  {
   "cell_type": "code",
   "execution_count": null,
   "metadata": {},
   "outputs": [],
   "source": [
    "#a-) 28x28 boyutlarında içeriği 0 ve 1 olan bir matris üretiniz.\n",
    "# --- my_create_m(): return result=[]28x28  içeriği 0 1 matris\n",
    "#b-) A şıkkında üretilen matrisle 1 leri içeren MBR dikdörtgeni üreten fonksiyonu yazınız\n",
    "# --- def my_MBR (matrix_block) 1 leri içeren en küçük dikdörtgeni değeri elde edicek\n",
    "#c-) Kendisine aktarılan iki vektörün benzerliğini return eden fonksiyonu yazınız.\n",
    "# --- def ... (a,b)  skaler çarpımı göndercek geri\n",
    "#d-) A şıkkında yazdığınız fonksiyonu kullanarak 100 farklı matris elde edip birinci \n",
    "#üretilen ile diğerlerini karşılaştırıp(distance) yakınlığını ve benzerliğini listeleyiniz\n",
    "# --- 100 tane A daki fonk çağır ordaki 100 tanesini 1. ile karşılaştır\n",
    "# haftaya mnist data"
   ]
  },
  {
   "cell_type": "code",
   "execution_count": 11,
   "metadata": {},
   "outputs": [],
   "source": [
    "def matrix_create_28_by_28_with_0_1():\n",
    "    my_matrix=np.zeros((28,28))\n",
    "    for i in range(28):\n",
    "        for j in range(28):\n",
    "            my_matrix[i,j]=random.randint(0,1)\n",
    "    return my_matrix\n",
    "\n",
    "def MBR_create_28_by_28_with_0_1(matrix_a):\n",
    "    m=matrix_a.shape[0]\n",
    "    n=matrix_a.shape[1]\n",
    "    x_min=m\n",
    "    x_max=0\n",
    "    y_min=n\n",
    "    y_max=0\n",
    "    for i in range(m):\n",
    "        for j in range(n):\n",
    "            if((matrix_a[i,j]==0) and x_min>i):\n",
    "                x_min = i\n",
    "            if((matrix_a[i,j]==0) and x_min<i):\n",
    "                x_min = i\n",
    "            if((matrix_a[i,j]==0) and y_min>j):\n",
    "                x_min = i\n",
    "            if((matrix_a[i,j]==0) and y_max<j):\n",
    "                x_min = i\n",
    "    return(x_min,x_max,y_min,y_max)\n",
    "\n",
    "def get_similarity(character_a,character_b):\n",
    "    m=character_a.shape[0]\n",
    "    n=character_a.shape[1]\n",
    "    my_similarity=0\n",
    "    for i in range(m):\n",
    "        for j in range(n):\n",
    "            my_similarity = my_similarity+character_a[i,j]*character_b[i,j]\n",
    "    return my_similarity\n",
    "            "
   ]
  },
  {
   "cell_type": "code",
   "execution_count": 10,
   "metadata": {},
   "outputs": [
    {
     "data": {
      "text/plain": [
       "194.0"
      ]
     },
     "execution_count": 10,
     "metadata": {},
     "output_type": "execute_result"
    }
   ],
   "source": [
    "c_1=matrix_create_28_by_28_with_0_1()\n",
    "c_2=matrix_create_28_by_28_with_0_1()\n",
    "get_similarity(c_1,c_2)"
   ]
  },
  {
   "cell_type": "code",
   "execution_count": 16,
   "metadata": {},
   "outputs": [],
   "source": [
    "def get_similarity_for_100_characters(kac_karakter=100):\n",
    "    characters=[]\n",
    "    for i in range(100):\n",
    "        new_char = matrix_create_28_by_28_with_0_1()\n",
    "        characters.append(new_char)\n",
    "    for i in range(100):\n",
    "        benzerlik=get_similarity(characters[0],characters[i])\n",
    "        print(\"0---\"+str(i)+\" \",benzerlik)"
   ]
  },
  {
   "cell_type": "code",
   "execution_count": 17,
   "metadata": {},
   "outputs": [
    {
     "name": "stdout",
     "output_type": "stream",
     "text": [
      "0---0  391.0\n",
      "0---1  184.0\n",
      "0---2  194.0\n",
      "0---3  203.0\n",
      "0---4  189.0\n",
      "0---5  187.0\n",
      "0---6  204.0\n",
      "0---7  195.0\n",
      "0---8  188.0\n",
      "0---9  180.0\n",
      "0---10  185.0\n",
      "0---11  188.0\n",
      "0---12  197.0\n",
      "0---13  203.0\n",
      "0---14  200.0\n",
      "0---15  197.0\n",
      "0---16  203.0\n",
      "0---17  204.0\n",
      "0---18  190.0\n",
      "0---19  178.0\n",
      "0---20  191.0\n",
      "0---21  202.0\n",
      "0---22  197.0\n",
      "0---23  197.0\n",
      "0---24  202.0\n",
      "0---25  190.0\n",
      "0---26  210.0\n",
      "0---27  198.0\n",
      "0---28  187.0\n",
      "0---29  212.0\n",
      "0---30  193.0\n",
      "0---31  198.0\n",
      "0---32  176.0\n",
      "0---33  185.0\n",
      "0---34  200.0\n",
      "0---35  193.0\n",
      "0---36  188.0\n",
      "0---37  184.0\n",
      "0---38  190.0\n",
      "0---39  190.0\n",
      "0---40  192.0\n",
      "0---41  201.0\n",
      "0---42  188.0\n",
      "0---43  197.0\n",
      "0---44  213.0\n",
      "0---45  192.0\n",
      "0---46  187.0\n",
      "0---47  203.0\n",
      "0---48  194.0\n",
      "0---49  200.0\n",
      "0---50  191.0\n",
      "0---51  212.0\n",
      "0---52  190.0\n",
      "0---53  217.0\n",
      "0---54  201.0\n",
      "0---55  197.0\n",
      "0---56  195.0\n",
      "0---57  191.0\n",
      "0---58  199.0\n",
      "0---59  214.0\n",
      "0---60  201.0\n",
      "0---61  195.0\n",
      "0---62  205.0\n",
      "0---63  200.0\n",
      "0---64  195.0\n",
      "0---65  203.0\n",
      "0---66  194.0\n",
      "0---67  185.0\n",
      "0---68  188.0\n",
      "0---69  192.0\n",
      "0---70  203.0\n",
      "0---71  195.0\n",
      "0---72  206.0\n",
      "0---73  208.0\n",
      "0---74  210.0\n",
      "0---75  191.0\n",
      "0---76  195.0\n",
      "0---77  188.0\n",
      "0---78  192.0\n",
      "0---79  176.0\n",
      "0---80  190.0\n",
      "0---81  190.0\n",
      "0---82  203.0\n",
      "0---83  196.0\n",
      "0---84  181.0\n",
      "0---85  187.0\n",
      "0---86  192.0\n",
      "0---87  189.0\n",
      "0---88  208.0\n",
      "0---89  192.0\n",
      "0---90  192.0\n",
      "0---91  178.0\n",
      "0---92  205.0\n",
      "0---93  215.0\n",
      "0---94  214.0\n",
      "0---95  195.0\n",
      "0---96  199.0\n",
      "0---97  180.0\n",
      "0---98  200.0\n",
      "0---99  196.0\n"
     ]
    }
   ],
   "source": [
    "c_1=matrix_create_28_by_28_with_0_1()\n",
    "c_2=matrix_create_28_by_28_with_0_1()\n",
    "get_similarity(c_1,c_2)\n",
    "get_similarity_for_100_characters(10)"
   ]
  },
  {
   "cell_type": "code",
   "execution_count": null,
   "metadata": {},
   "outputs": [],
   "source": []
  }
 ],
 "metadata": {
  "kernelspec": {
   "display_name": "Python 3",
   "language": "python",
   "name": "python3"
  },
  "language_info": {
   "codemirror_mode": {
    "name": "ipython",
    "version": 3
   },
   "file_extension": ".py",
   "mimetype": "text/x-python",
   "name": "python",
   "nbconvert_exporter": "python",
   "pygments_lexer": "ipython3",
   "version": "3.6.6"
  }
 },
 "nbformat": 4,
 "nbformat_minor": 2
}
